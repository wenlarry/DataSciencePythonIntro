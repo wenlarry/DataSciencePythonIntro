{
 "cells": [
  {
   "cell_type": "code",
   "execution_count": 1,
   "metadata": {},
   "outputs": [
    {
     "data": {
      "text/html": [
       "<div>\n",
       "<style scoped>\n",
       "    .dataframe tbody tr th:only-of-type {\n",
       "        vertical-align: middle;\n",
       "    }\n",
       "\n",
       "    .dataframe tbody tr th {\n",
       "        vertical-align: top;\n",
       "    }\n",
       "\n",
       "    .dataframe thead th {\n",
       "        text-align: right;\n",
       "    }\n",
       "</style>\n",
       "<table border=\"1\" class=\"dataframe\">\n",
       "  <thead>\n",
       "    <tr style=\"text-align: right;\">\n",
       "      <th></th>\n",
       "      <th></th>\n",
       "      <th>Purchased</th>\n",
       "      <th>Cost</th>\n",
       "    </tr>\n",
       "    <tr>\n",
       "      <th>Location</th>\n",
       "      <th>Name</th>\n",
       "      <th></th>\n",
       "      <th></th>\n",
       "    </tr>\n",
       "  </thead>\n",
       "  <tbody>\n",
       "    <tr>\n",
       "      <th rowspan=\"2\" valign=\"top\">store 1</th>\n",
       "      <th>C</th>\n",
       "      <td>dog food</td>\n",
       "      <td>21.01</td>\n",
       "    </tr>\n",
       "    <tr>\n",
       "      <th>K</th>\n",
       "      <td>cat food</td>\n",
       "      <td>8.68</td>\n",
       "    </tr>\n",
       "    <tr>\n",
       "      <th rowspan=\"2\" valign=\"top\">store 2</th>\n",
       "      <th>V</th>\n",
       "      <td>bird seed</td>\n",
       "      <td>6.99</td>\n",
       "    </tr>\n",
       "    <tr>\n",
       "      <th>K</th>\n",
       "      <td>cat food</td>\n",
       "      <td>3.33</td>\n",
       "    </tr>\n",
       "  </tbody>\n",
       "</table>\n",
       "</div>"
      ],
      "text/plain": [
       "               Purchased   Cost\n",
       "Location Name                  \n",
       "store 1  C      dog food  21.01\n",
       "         K      cat food   8.68\n",
       "store 2  V     bird seed   6.99\n",
       "         K      cat food   3.33"
      ]
     },
     "execution_count": 1,
     "metadata": {},
     "output_type": "execute_result"
    }
   ],
   "source": [
    "import pandas as pd\n",
    "purchase_1 = pd.Series({'Name':'C',\n",
    "                        'Purchased':'dog food',\n",
    "                        'Cost':21.01})\n",
    "purchase_2 = pd.Series({'Name':'K',\n",
    "                        'Purchased':'cat food',\n",
    "                        'Cost':8.68})\n",
    "purchase_3 = pd.Series({'Name':'V',\n",
    "                        'Purchased':'bird seed',\n",
    "                        'Cost':6.99})\n",
    "\n",
    "df = pd.DataFrame([purchase_1, purchase_2, purchase_3], index=['store 1',\n",
    "                  'store 1', 'store 2'])\n",
    "\n",
    "df = df.set_index([df.index, 'Name'])\n",
    "df.index.names = ['Location', 'Name']\n",
    "df = df.append(pd.Series(data={'Cost':3.33, 'Purchased':'cat food'},\n",
    "               name=('store 2', 'K')))\n",
    "df "
   ]
  },
  {
   "cell_type": "code",
   "execution_count": 2,
   "metadata": {},
   "outputs": [
    {
     "data": {
      "text/plain": [
       "store 1     dog food\n",
       "store 1     cat food\n",
       "store 2    bird seed\n",
       "Name: Purchased, dtype: object"
      ]
     },
     "execution_count": 2,
     "metadata": {},
     "output_type": "execute_result"
    }
   ],
   "source": [
    "import pandas as pd\n",
    "purchase_1 = pd.Series({'Name':'C',\n",
    "                        'Purchased':'dog food',\n",
    "                        'Cost':21.01})\n",
    "purchase_2 = pd.Series({'Name':'K',\n",
    "                        'Purchased':'cat food',\n",
    "                        'Cost':8.68})\n",
    "purchase_3 = pd.Series({'Name':'V',\n",
    "                        'Purchased':'bird seed',\n",
    "                        'Cost':6.99})\n",
    "\n",
    "df = pd.DataFrame([purchase_1, purchase_2, purchase_3], index=['store 1',\n",
    "                  'store 1', 'store 2'])\n",
    "df['Purchased']"
   ]
  },
  {
   "cell_type": "code",
   "execution_count": 3,
   "metadata": {},
   "outputs": [
    {
     "data": {
      "text/plain": [
       "store 1    C\n",
       "store 1    K\n",
       "store 2    V\n",
       "Name: Name, dtype: object"
      ]
     },
     "execution_count": 3,
     "metadata": {},
     "output_type": "execute_result"
    }
   ],
   "source": [
    "import pandas as pd\n",
    "purchase_1 = pd.Series({'Name':'C',\n",
    "                        'Purchased':'dog food',\n",
    "                        'Cost':21.01})\n",
    "purchase_2 = pd.Series({'Name':'K',\n",
    "                        'Purchased':'cat food',\n",
    "                        'Cost':8.68})\n",
    "purchase_3 = pd.Series({'Name':'V',\n",
    "                        'Purchased':'bird seed',\n",
    "                        'Cost':6.99})\n",
    "\n",
    "df = pd.DataFrame([purchase_1, purchase_2, purchase_3], index=['store 1',\n",
    "                  'store 1', 'store 2'])\n",
    "\n",
    "df['Name'][df['Cost']>3]\n",
    "            "
   ]
  },
  {
   "cell_type": "code",
   "execution_count": null,
   "metadata": {},
   "outputs": [],
   "source": []
  }
 ],
 "metadata": {
  "kernelspec": {
   "display_name": "Python 3",
   "language": "python",
   "name": "python3"
  },
  "language_info": {
   "codemirror_mode": {
    "name": "ipython",
    "version": 3
   },
   "file_extension": ".py",
   "mimetype": "text/x-python",
   "name": "python",
   "nbconvert_exporter": "python",
   "pygments_lexer": "ipython3",
   "version": "3.6.5"
  }
 },
 "nbformat": 4,
 "nbformat_minor": 2
}
